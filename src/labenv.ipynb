{
 "cells": [
  {
   "cell_type": "code",
   "execution_count": 28,
   "metadata": {},
   "outputs": [],
   "source": [
    "import serial\n",
    "import speech_recognition as sr"
   ]
  },
  {
   "cell_type": "code",
   "execution_count": 29,
   "metadata": {},
   "outputs": [
    {
     "name": "stdout",
     "output_type": "stream",
     "text": [
      "/dev/cu.MALS : n/a\n",
      "/dev/cu.SOC : n/a\n",
      "/dev/cu.Bluetooth-Incoming-Port : n/a\n",
      "/dev/cu.usbserial-AC01L4R4 : FT232R USB UART\n"
     ]
    }
   ],
   "source": [
    "import serial.tools.list_ports\n",
    "comlist = serial.tools.list_ports.comports()\n",
    "\n",
    "for entry in comlist:\n",
    "    print(\"{} : {}\".format(entry.device, entry.description))"
   ]
  },
  {
   "cell_type": "code",
   "execution_count": 30,
   "metadata": {},
   "outputs": [
    {
     "name": "stdout",
     "output_type": "stream",
     "text": [
      "Device to use: /dev/cu.usbserial-AC01L4R4\n"
     ]
    }
   ],
   "source": [
    "device = '/dev/cu.usbserial'\n",
    "device = '/dev/cu.usbserial-AC01L4R4'\n",
    "print(\"Device to use: {}\".format(device))"
   ]
  },
  {
   "cell_type": "code",
   "execution_count": 47,
   "metadata": {},
   "outputs": [],
   "source": [
    "def send_command(command, data):\n",
    "    print(\"controlling vtr\")\n",
    "    print(\"command: {}\".format(command))\n",
    "    print(\"data   : {}\".format(data))\n",
    "    \n",
    "    s = '{}{}{}'.format('\\x02',command,'\\x03').encode()\n",
    "    \n",
    "    print(s)\n",
    "    \n",
    "    with serial.Serial(device=seri, baudrate=9600, bytesize=serial.SEVENBITS ,stopbits=serial.STOPBITS_ONE, timeout=1, parity=serial.PARITY_ODD) as ser:\n",
    "        print(ser.isOpen())\n",
    "        ser.write(s) "
   ]
  },
  {
   "cell_type": "code",
   "execution_count": 50,
   "metadata": {},
   "outputs": [],
   "source": [
    "cmd_stop = 'OSP'\n",
    "cmd_play = 'OPL'\n",
    "cmds = (cmd_stop, cmd_play)"
   ]
  },
  {
   "cell_type": "code",
   "execution_count": 53,
   "metadata": {},
   "outputs": [
    {
     "name": "stdout",
     "output_type": "stream",
     "text": [
      "controlling vtr\n",
      "command: OPL\n",
      "data   : \n",
      "b'\\x02OPL\\x03'\n",
      "True\n"
     ]
    }
   ],
   "source": [
    "send_command(cmds[1],'')\n",
    "#\\x02OSP\\x03"
   ]
  },
  {
   "cell_type": "code",
   "execution_count": null,
   "metadata": {},
   "outputs": [],
   "source": [
    "def identify_command_and_data(text):\n",
    "    cmd_stop = b'OSP'\n",
    "    cmd_play = b'OPL'\n",
    "    cmds = (cmd_stop, cmd_play)\n",
    "    return cmd_stop,''"
   ]
  },
  {
   "cell_type": "code",
   "execution_count": null,
   "metadata": {},
   "outputs": [],
   "source": [
    "def voice_to_text():\n",
    "    #obtain audio from the microphone\n",
    "    r = sr.Recognizer()\n",
    "    with sr.Microphone() as source:\n",
    "        print(\"Say something!\")\n",
    "        audio = r.listen(source)\n",
    "\n",
    "    print(\"end of listening\")    \n",
    "    \n",
    "    # recognize speech using Google Speech Recognition\n",
    "    \n",
    "    text = ''\n",
    "    \n",
    "    try:\n",
    "        # for testing purposes, we're just using the default API key\n",
    "        # to use another API key, use `r.recognize_google(audio, key=\"GOOGLE_SPEECH_RECOGNITION_API_KEY\")`\n",
    "        # instead of `r.recognize_google(audio)`\n",
    "        text = r.recognize_google(audio)\n",
    "        print(\"Google Speech Recognition thinks you said: \" + text)\n",
    "    except sr.UnknownValueError:\n",
    "        print(\"Google Speech Recognition could not understand audio\")\n",
    "    except sr.RequestError as e:\n",
    "        print(\"Could not request results from Google Speech Recognition service; {0}\".format(e))\n",
    "        \n",
    "    return text"
   ]
  },
  {
   "cell_type": "code",
   "execution_count": null,
   "metadata": {},
   "outputs": [],
   "source": [
    "# Main loop\n",
    "text = ''\n",
    "while(text!='end'):\n",
    "    text = voice_to_text()\n",
    "    cmd,data = identify_command_and_data(text)\n",
    "    send_command(cmd, data)"
   ]
  },
  {
   "cell_type": "code",
   "execution_count": null,
   "metadata": {},
   "outputs": [],
   "source": []
  }
 ],
 "metadata": {
  "kernelspec": {
   "display_name": "Python 3",
   "language": "python",
   "name": "python3"
  },
  "language_info": {
   "codemirror_mode": {
    "name": "ipython",
    "version": 3
   },
   "file_extension": ".py",
   "mimetype": "text/x-python",
   "name": "python",
   "nbconvert_exporter": "python",
   "pygments_lexer": "ipython3",
   "version": "3.7.1"
  }
 },
 "nbformat": 4,
 "nbformat_minor": 2
}
