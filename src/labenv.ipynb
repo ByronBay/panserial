{
 "cells": [
  {
   "cell_type": "code",
   "execution_count": 1,
   "metadata": {},
   "outputs": [],
   "source": [
    "import serial"
   ]
  },
  {
   "cell_type": "code",
   "execution_count": 2,
   "metadata": {},
   "outputs": [
    {
     "name": "stdout",
     "output_type": "stream",
     "text": [
      "/dev/cu.usbserial : USB-Serial Controller D\n",
      "/dev/cu.MALS : n/a\n",
      "/dev/cu.SOC : n/a\n",
      "/dev/cu.Bluetooth-Incoming-Port : n/a\n"
     ]
    }
   ],
   "source": [
    "import serial.tools.list_ports\n",
    "comlist = serial.tools.list_ports.comports()\n",
    "\n",
    "for entry in comlist:\n",
    "    print(\"{} : {}\".format(entry.device, entry.description))"
   ]
  },
  {
   "cell_type": "code",
   "execution_count": 3,
   "metadata": {},
   "outputs": [
    {
     "name": "stdout",
     "output_type": "stream",
     "text": [
      "Device to use: /dev/cu.usbserial\n"
     ]
    }
   ],
   "source": [
    "device = '/dev/cu.usbserial'\n",
    "print(\"Device to use: {}\".format(device))"
   ]
  },
  {
   "cell_type": "code",
   "execution_count": null,
   "metadata": {},
   "outputs": [],
   "source": [
    "with serial.Serial(device, baudrate=9600, bytesize=7 ,stopbits=1, timeout=1, parity=serial.PARITY_ODD) as ser:\n",
    "    print(ser.isOpen())\n",
    "    ser.write(chr(0x02).encode()) \n",
    "    ser.write(b'OPL')\n",
    "    ser.write(chr(0x03))\n",
    "print(ser.isOpen())"
   ]
  },
  {
   "cell_type": "code",
   "execution_count": null,
   "metadata": {},
   "outputs": [],
   "source": []
  }
 ],
 "metadata": {
  "kernelspec": {
   "display_name": "Python 3",
   "language": "python",
   "name": "python3"
  },
  "language_info": {
   "codemirror_mode": {
    "name": "ipython",
    "version": 3
   },
   "file_extension": ".py",
   "mimetype": "text/x-python",
   "name": "python",
   "nbconvert_exporter": "python",
   "pygments_lexer": "ipython3",
   "version": "3.6.8"
  }
 },
 "nbformat": 4,
 "nbformat_minor": 2
}
