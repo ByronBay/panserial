{
 "cells": [
  {
   "cell_type": "code",
   "execution_count": 116,
   "metadata": {},
   "outputs": [],
   "source": [
    "import serial\n",
    "import speech_recognition as sr"
   ]
  },
  {
   "cell_type": "code",
   "execution_count": 117,
   "metadata": {},
   "outputs": [
    {
     "name": "stdout",
     "output_type": "stream",
     "text": [
      "/dev/cu.SOC : n/a\n",
      "/dev/cu.MALS : n/a\n",
      "/dev/cu.usbserial-AC01L4R4 : FT232R USB UART\n",
      "/dev/cu.Bluetooth-Incoming-Port : n/a\n"
     ]
    }
   ],
   "source": [
    "import serial.tools.list_ports\n",
    "comlist = serial.tools.list_ports.comports()\n",
    "\n",
    "for entry in comlist:\n",
    "    print(\"{} : {}\".format(entry.device, entry.description))"
   ]
  },
  {
   "cell_type": "code",
   "execution_count": 118,
   "metadata": {},
   "outputs": [
    {
     "name": "stdout",
     "output_type": "stream",
     "text": [
      "Device to use: /dev/cu.usbserial-AC01L4R4\n"
     ]
    }
   ],
   "source": [
    "device = '/dev/cu.usbserial'\n",
    "device = '/dev/cu.usbserial-AC01L4R4'\n",
    "print(\"Device to use: {}\".format(device))"
   ]
  },
  {
   "cell_type": "code",
   "execution_count": 162,
   "metadata": {},
   "outputs": [],
   "source": [
    "def send_command(command, data):\n",
    "    print(\"command: {}\".format(command))\n",
    "    print(\"data   : {}\".format(data))\n",
    "    \n",
    "    stx = bytearray.fromhex('02')\n",
    "    etx = bytearray.fromhex('03')\n",
    "    colon = bytearray.fromhex('3A')\n",
    "    semicolon = bytearray.fromhex('3B')\n",
    "    \n",
    "    s =  stx + bytearray(command.encode('utf-8')) + etx\n",
    "    \n",
    "    \n",
    "    with serial.Serial(\n",
    "            device,\n",
    "            baudrate=9600,\n",
    "            bytesize=serial.SEVENBITS,\n",
    "            stopbits=serial.STOPBITS_ONE,\n",
    "            timeout=1,\n",
    "            parity=serial.PARITY_ODD) as ser:\n",
    "        num_bytes_send = ser.write(s)\n",
    "        print(\"sending {} done\".format(num_bytes_send))\n",
    "        retval = ser.readline()\n",
    "        print(retval)"
   ]
  },
  {
   "cell_type": "code",
   "execution_count": 169,
   "metadata": {},
   "outputs": [
    {
     "name": "stdout",
     "output_type": "stream",
     "text": [
      "command: QOS\n",
      "data   : \n",
      "sending 5 done\n",
      "b'\\x02OPS0000E80000\\x03'\n"
     ]
    }
   ],
   "source": [
    "cmd_stop = 'OSP'\n",
    "cmd_play = 'OPL'\n",
    "cmds = (cmd_stop, cmd_play)\n",
    "send_command('QOS','')"
   ]
  },
  {
   "cell_type": "code",
   "execution_count": 113,
   "metadata": {},
   "outputs": [],
   "source": [
    "def identify_command_and_data(text):\n",
    "    cmd_stop = b'OSP'\n",
    "    cmd_play = b'OPL'\n",
    "    cmds = (cmd_stop, cmd_play)\n",
    "    return cmd_stop,''"
   ]
  },
  {
   "cell_type": "code",
   "execution_count": 114,
   "metadata": {},
   "outputs": [],
   "source": [
    "def voice_to_text():\n",
    "    #obtain audio from the microphone\n",
    "    r = sr.Recognizer()\n",
    "    with sr.Microphone() as source:\n",
    "        print(\"Say something!\")\n",
    "        audio = r.listen(source)\n",
    "\n",
    "    print(\"end of listening\")    \n",
    "    \n",
    "    # recognize speech using Google Speech Recognition\n",
    "    \n",
    "    text = ''\n",
    "    \n",
    "    try:\n",
    "        # for testing purposes, we're just using the default API key\n",
    "        # to use another API key, use `r.recognize_google(audio, key=\"GOOGLE_SPEECH_RECOGNITION_API_KEY\")`\n",
    "        # instead of `r.recognize_google(audio)`\n",
    "        text = r.recognize_google(audio)\n",
    "        print(\"Google Speech Recognition thinks you said: \" + text)\n",
    "    except sr.UnknownValueError:\n",
    "        print(\"Google Speech Recognition could not understand audio\")\n",
    "    except sr.RequestError as e:\n",
    "        print(\"Could not request results from Google Speech Recognition service; {0}\".format(e))\n",
    "        \n",
    "    return text"
   ]
  },
  {
   "cell_type": "code",
   "execution_count": 115,
   "metadata": {},
   "outputs": [
    {
     "name": "stdout",
     "output_type": "stream",
     "text": [
      "Say something!\n",
      "end of listening\n",
      "Google Speech Recognition could not understand audio\n",
      "controlling vtr\n",
      "command: b'OSP'\n",
      "data   : \n"
     ]
    },
    {
     "ename": "AttributeError",
     "evalue": "'bytes' object has no attribute 'encode'",
     "output_type": "error",
     "traceback": [
      "\u001b[0;31m---------------------------------------------------------------------------\u001b[0m",
      "\u001b[0;31mAttributeError\u001b[0m                            Traceback (most recent call last)",
      "\u001b[0;32m<ipython-input-115-6515dfba4ce7>\u001b[0m in \u001b[0;36m<module>\u001b[0;34m\u001b[0m\n\u001b[1;32m      4\u001b[0m     \u001b[0mtext\u001b[0m \u001b[0;34m=\u001b[0m \u001b[0mvoice_to_text\u001b[0m\u001b[0;34m(\u001b[0m\u001b[0;34m)\u001b[0m\u001b[0;34m\u001b[0m\u001b[0;34m\u001b[0m\u001b[0m\n\u001b[1;32m      5\u001b[0m     \u001b[0mcmd\u001b[0m\u001b[0;34m,\u001b[0m\u001b[0mdata\u001b[0m \u001b[0;34m=\u001b[0m \u001b[0midentify_command_and_data\u001b[0m\u001b[0;34m(\u001b[0m\u001b[0mtext\u001b[0m\u001b[0;34m)\u001b[0m\u001b[0;34m\u001b[0m\u001b[0;34m\u001b[0m\u001b[0m\n\u001b[0;32m----> 6\u001b[0;31m     \u001b[0msend_command\u001b[0m\u001b[0;34m(\u001b[0m\u001b[0mcmd\u001b[0m\u001b[0;34m,\u001b[0m \u001b[0mdata\u001b[0m\u001b[0;34m)\u001b[0m\u001b[0;34m\u001b[0m\u001b[0;34m\u001b[0m\u001b[0m\n\u001b[0m",
      "\u001b[0;32m<ipython-input-111-8b6465b6ed7a>\u001b[0m in \u001b[0;36msend_command\u001b[0;34m(command, data)\u001b[0m\n\u001b[1;32m      5\u001b[0m \u001b[0;34m\u001b[0m\u001b[0m\n\u001b[1;32m      6\u001b[0m     \u001b[0;31m#s = bytearray.fromhex('02') + bytearray(b'OPL') + bytearray.fromhex('03')\u001b[0m\u001b[0;34m\u001b[0m\u001b[0;34m\u001b[0m\u001b[0;34m\u001b[0m\u001b[0m\n\u001b[0;32m----> 7\u001b[0;31m     \u001b[0ms\u001b[0m \u001b[0;34m=\u001b[0m \u001b[0mbytearray\u001b[0m\u001b[0;34m.\u001b[0m\u001b[0mfromhex\u001b[0m\u001b[0;34m(\u001b[0m\u001b[0;34m'02'\u001b[0m\u001b[0;34m)\u001b[0m \u001b[0;34m+\u001b[0m \u001b[0mbytearray\u001b[0m\u001b[0;34m(\u001b[0m\u001b[0mcommand\u001b[0m\u001b[0;34m.\u001b[0m\u001b[0mencode\u001b[0m\u001b[0;34m(\u001b[0m\u001b[0;34m'utf-8'\u001b[0m\u001b[0;34m)\u001b[0m\u001b[0;34m)\u001b[0m \u001b[0;34m+\u001b[0m \u001b[0mbytearray\u001b[0m\u001b[0;34m.\u001b[0m\u001b[0mfromhex\u001b[0m\u001b[0;34m(\u001b[0m\u001b[0;34m'03'\u001b[0m\u001b[0;34m)\u001b[0m\u001b[0;34m\u001b[0m\u001b[0;34m\u001b[0m\u001b[0m\n\u001b[0m\u001b[1;32m      8\u001b[0m \u001b[0;34m\u001b[0m\u001b[0m\n\u001b[1;32m      9\u001b[0m     \u001b[0mprint\u001b[0m\u001b[0;34m(\u001b[0m\u001b[0ms\u001b[0m\u001b[0;34m)\u001b[0m\u001b[0;34m\u001b[0m\u001b[0;34m\u001b[0m\u001b[0m\n",
      "\u001b[0;31mAttributeError\u001b[0m: 'bytes' object has no attribute 'encode'"
     ]
    }
   ],
   "source": [
    "# Main loop\n",
    "text = ''\n",
    "while(text!='end'):\n",
    "    text = voice_to_text()\n",
    "    cmd,data = identify_command_and_data(text)\n",
    "    send_command(cmd, data)"
   ]
  },
  {
   "cell_type": "code",
   "execution_count": null,
   "metadata": {},
   "outputs": [],
   "source": []
  }
 ],
 "metadata": {
  "kernelspec": {
   "display_name": "Python 3",
   "language": "python",
   "name": "python3"
  },
  "language_info": {
   "codemirror_mode": {
    "name": "ipython",
    "version": 3
   },
   "file_extension": ".py",
   "mimetype": "text/x-python",
   "name": "python",
   "nbconvert_exporter": "python",
   "pygments_lexer": "ipython3",
   "version": "3.7.1"
  }
 },
 "nbformat": 4,
 "nbformat_minor": 2
}
